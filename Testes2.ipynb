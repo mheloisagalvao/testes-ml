{
  "nbformat": 4,
  "nbformat_minor": 0,
  "metadata": {
    "colab": {
      "provenance": [],
      "authorship_tag": "ABX9TyO4U7LnpdrpWZbLgRf1d2kp",
      "include_colab_link": true
    },
    "kernelspec": {
      "name": "python3",
      "display_name": "Python 3"
    },
    "language_info": {
      "name": "python"
    }
  },
  "cells": [
    {
      "cell_type": "markdown",
      "metadata": {
        "id": "view-in-github",
        "colab_type": "text"
      },
      "source": [
        "<a href=\"https://colab.research.google.com/github/mheloisagalvao/testes-ml/blob/main/Testes2.ipynb\" target=\"_parent\"><img src=\"https://colab.research.google.com/assets/colab-badge.svg\" alt=\"Open In Colab\"/></a>"
      ]
    },
    {
      "cell_type": "markdown",
      "source": [
        "Criação do Churn"
      ],
      "metadata": {
        "id": "iedvSN6dgi20"
      }
    },
    {
      "cell_type": "code",
      "source": [
        "import pandas as pd\n",
        "import matplotlib.pyplot as plt\n",
        "import seaborn as sns\n",
        "import numpy as np"
      ],
      "metadata": {
        "id": "TfPIbihefyfs"
      },
      "execution_count": 1,
      "outputs": []
    },
    {
      "cell_type": "code",
      "source": [
        "url = \"https://raw.githubusercontent.com/mheloisagalvao/projeto-ml/main/BD_SCM.CSV\""
      ],
      "metadata": {
        "id": "h2sCfqn3f48j"
      },
      "execution_count": 2,
      "outputs": []
    },
    {
      "cell_type": "code",
      "source": [
        "df = pd.read_csv(url, encoding='latin-1',delimiter = ';')"
      ],
      "metadata": {
        "id": "5X0wRRRAf9y8"
      },
      "execution_count": 3,
      "outputs": []
    },
    {
      "cell_type": "code",
      "source": [
        "df['E8'] = df['E8'].fillna('99')\n",
        "df['F4_1'] = df['F4_1'].fillna('99')\n",
        "df['F4_2'] = df['F4_2'].fillna('99')\n",
        "df['F4_3'] = df['F4_3'].fillna('99')\n",
        "df['A1_1'] = df['A1_1'].fillna('99')\n",
        "df['A2_1'] = df['A2_1'].fillna('99')\n",
        "df['A2_2'] = df['A2_2'].fillna('99')\n",
        "df['A2_3'] = df['A2_3'].fillna('99')\n",
        "df['A3'] = df['A3'].fillna('99')\n",
        "df['H2'].replace({999997: 999998}, inplace=True)\n",
        "df['H2a'].replace({98: 99}, inplace=True)"
      ],
      "metadata": {
        "id": "0je3AIEjgPj1"
      },
      "execution_count": 7,
      "outputs": []
    },
    {
      "cell_type": "code",
      "source": [
        "df.dropna(axis=1, inplace=True) #dropar as colunas com a maior parte dos seus dados nulos\n",
        "df.describe() #médias\n",
        "print(df.isnull().sum()) #soma que não tem mais nada vazio"
      ],
      "metadata": {
        "colab": {
          "base_uri": "https://localhost:8080/"
        },
        "id": "aCG__4VUgZVk",
        "outputId": "f652c5c3-059d-4126-eb55-4eb81a83f7e1"
      },
      "execution_count": 9,
      "outputs": [
        {
          "output_type": "stream",
          "name": "stdout",
          "text": [
            "IDTNS        0\n",
            "TIPO         0\n",
            "OPERADORA    0\n",
            "ESTADO       0\n",
            "DATA         0\n",
            "ANO_BASE     0\n",
            "Q1           0\n",
            "Q2_1         0\n",
            "Q2_2         0\n",
            "Q3           0\n",
            "Q4           0\n",
            "Q5           0\n",
            "Q6           0\n",
            "Q7           0\n",
            "Q7a          0\n",
            "Q8           0\n",
            "J1           0\n",
            "B1_1         0\n",
            "B1_2         0\n",
            "C1_1         0\n",
            "C1_2         0\n",
            "C1_3         0\n",
            "D1_1         0\n",
            "D1_2         0\n",
            "A1_1         0\n",
            "A2_1         0\n",
            "A2_2         0\n",
            "A2_3         0\n",
            "A3           0\n",
            "E1           0\n",
            "E3           0\n",
            "E5           0\n",
            "E7           0\n",
            "E8           0\n",
            "F1           0\n",
            "F3           0\n",
            "F4_1         0\n",
            "F4_2         0\n",
            "F4_3         0\n",
            "G2_1         0\n",
            "G2_2         0\n",
            "G2_3         0\n",
            "H0           0\n",
            "COD_IBGE     0\n",
            "H1           0\n",
            "H2           0\n",
            "H2a          0\n",
            "H3           0\n",
            "I1           0\n",
            "PESO         0\n",
            "Churn        0\n",
            "dtype: int64\n"
          ]
        }
      ]
    },
    {
      "cell_type": "code",
      "execution_count": 10,
      "metadata": {
        "id": "qFT3nPUbfmZR"
      },
      "outputs": [],
      "source": [
        "df['Churn'] = df['J1'].apply(lambda x: 1 if x <= 4 else 0)"
      ]
    },
    {
      "cell_type": "code",
      "source": [
        "df['Churn'].value_counts()"
      ],
      "metadata": {
        "colab": {
          "base_uri": "https://localhost:8080/"
        },
        "id": "jKRTYUSRftlk",
        "outputId": "97c0b6d6-e497-4aba-b278-b55e5dcd6b3d"
      },
      "execution_count": 11,
      "outputs": [
        {
          "output_type": "execute_result",
          "data": {
            "text/plain": [
              "Churn\n",
              "0    907\n",
              "1    192\n",
              "Name: count, dtype: int64"
            ]
          },
          "metadata": {},
          "execution_count": 11
        }
      ]
    },
    {
      "cell_type": "code",
      "source": [
        "df.iloc[2]"
      ],
      "metadata": {
        "colab": {
          "base_uri": "https://localhost:8080/"
        },
        "id": "RZL0sgSKfvt8",
        "outputId": "585b667c-5506-462f-d2fe-f40df207df7e"
      },
      "execution_count": 12,
      "outputs": [
        {
          "output_type": "execute_result",
          "data": {
            "text/plain": [
              "IDTNS                       235004\n",
              "TIPO                   BANDA-LARGA\n",
              "OPERADORA                CLARO/NET\n",
              "ESTADO                          SP\n",
              "DATA                     16/jul/20\n",
              "ANO_BASE                      2020\n",
              "Q1                               1\n",
              "Q2_1                             2\n",
              "Q2_2                             2\n",
              "Q3                               1\n",
              "Q4                               1\n",
              "Q5                               1\n",
              "Q6                               1\n",
              "Q7                              56\n",
              "Q7a                              8\n",
              "Q8                               2\n",
              "J1                               0\n",
              "B1_1                             0\n",
              "B1_2                             0\n",
              "C1_1                             1\n",
              "C1_2                             1\n",
              "C1_3                             0\n",
              "D1_1                             0\n",
              "D1_2                             2\n",
              "A1_1                            99\n",
              "A2_1                            99\n",
              "A2_2                            99\n",
              "A2_3                            99\n",
              "A3                              99\n",
              "E1                               2\n",
              "E3                               1\n",
              "E5                               1\n",
              "E7                               1\n",
              "E8                             5.0\n",
              "F1                               2\n",
              "F3                               1\n",
              "F4_1                           7.0\n",
              "F4_2                           7.0\n",
              "F4_3                           9.0\n",
              "G2_1                             1\n",
              "G2_2                             1\n",
              "G2_3                             1\n",
              "H0           SÃO BERNARDO DO CAMPO\n",
              "COD_IBGE                   3548708\n",
              "H1                               2\n",
              "H2                           10000\n",
              "H2a                              4\n",
              "H3                               7\n",
              "I1                               1\n",
              "PESO                   19,63292645\n",
              "Churn                            1\n",
              "Name: 2, dtype: object"
            ]
          },
          "metadata": {},
          "execution_count": 12
        }
      ]
    }
  ]
}