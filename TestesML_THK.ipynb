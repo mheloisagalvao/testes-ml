{
  "nbformat": 4,
  "nbformat_minor": 0,
  "metadata": {
    "colab": {
      "provenance": [],
      "include_colab_link": true
    },
    "kernelspec": {
      "name": "python3",
      "display_name": "Python 3"
    },
    "language_info": {
      "name": "python"
    }
  },
  "cells": [
    {
      "cell_type": "markdown",
      "metadata": {
        "id": "view-in-github",
        "colab_type": "text"
      },
      "source": [
        "<a href=\"https://colab.research.google.com/github/mheloisagalvao/projeto-ml/blob/main/TestesML_THK.ipynb\" target=\"_parent\"><img src=\"https://colab.research.google.com/assets/colab-badge.svg\" alt=\"Open In Colab\"/></a>"
      ]
    },
    {
      "cell_type": "code",
      "execution_count": null,
      "metadata": {
        "id": "eihEIlfkV2Ja"
      },
      "outputs": [],
      "source": [
        "import pandas as pd"
      ]
    },
    {
      "cell_type": "code",
      "source": [
        "df = pd.read_csv('/content/BD_SCM.CSV',encoding = 'latin-1',delimiter = ';')"
      ],
      "metadata": {
        "id": "SE-piaxwZ1KT"
      },
      "execution_count": null,
      "outputs": []
    },
    {
      "cell_type": "code",
      "source": [
        "df"
      ],
      "metadata": {
        "colab": {
          "base_uri": "https://localhost:8080/",
          "height": 635
        },
        "id": "eeplQmmKaEki",
        "outputId": "c450ae0a-d841-4f0f-c061-9c623fe19ba7"
      },
      "execution_count": null,
      "outputs": [
        {
          "output_type": "execute_result",
          "data": {
            "text/plain": [
              "       IDTNS         TIPO  OPERADORA ESTADO       DATA  ANO_BASE  Q1  Q2  \\\n",
              "0      61433  BANDA-LARGA  CLARO/NET     ES  16/jul/20      2020   1 NaN   \n",
              "1     234054  BANDA-LARGA  CLARO/NET     SP  16/jul/20      2020   1 NaN   \n",
              "2     235004  BANDA-LARGA  CLARO/NET     SP  16/jul/20      2020   1 NaN   \n",
              "3     429370  BANDA-LARGA         OI     DF  16/jul/20      2020   1 NaN   \n",
              "4     579712  BANDA-LARGA         OI     RN  16/jul/20      2020   1 NaN   \n",
              "...      ...          ...        ...    ...        ...       ...  ..  ..   \n",
              "1094  855226  BANDA-LARGA       VIVO     DF  06/ago/20      2020   1 NaN   \n",
              "1095  855472  BANDA-LARGA       VIVO     DF  06/ago/20      2020   1 NaN   \n",
              "1096  855509  BANDA-LARGA       VIVO     DF  06/ago/20      2020   1 NaN   \n",
              "1097  855666  BANDA-LARGA       VIVO     DF  06/ago/20      2020   1 NaN   \n",
              "1098  876249  BANDA-LARGA       VIVO     GO  06/ago/20      2020   1 NaN   \n",
              "\n",
              "      Q2_1  Q2_2  ...  G2_3                     H0  COD_IBGE  H1      H2  H2a  \\\n",
              "0        2     2  ...     2             VILA VELHA   3205200  99  999997   99   \n",
              "1        2     2  ...     1              SÃO PAULO   3550308   2    3000    2   \n",
              "2        2     2  ...     1  SÃO BERNARDO DO CAMPO   3548708   2   10000    4   \n",
              "3        2     2  ...     1               BRASÍLIA   5300108   1    1300    1   \n",
              "4        2     2  ...     1                  NATAL   2408102   1    1040    1   \n",
              "...    ...   ...  ...   ...                    ...       ...  ..     ...  ...   \n",
              "1094     2     2  ...     1               BRASÍLIA   5300108   1  999997   99   \n",
              "1095     2     2  ...     1               BRASÍLIA   5300108   1    2000    1   \n",
              "1096     2     2  ...     1               BRASÍLIA   5300108   2  999999   99   \n",
              "1097     2     2  ...     1               BRASÍLIA   5300108   1    5000    3   \n",
              "1098     2     2  ...     1               LUZIÂNIA   5212501   3    3000    2   \n",
              "\n",
              "      H3  I1  I2         PESO  \n",
              "0      7   3 NaN  0,630163929  \n",
              "1      7   1 NaN  19,63292645  \n",
              "2      7   1 NaN  19,63292645  \n",
              "3      2   1 NaN  0,437668628  \n",
              "4      2   3 NaN  0,093547923  \n",
              "...   ..  ..  ..          ...  \n",
              "1094   7   1 NaN  0,860180898  \n",
              "1095   4   1 NaN  0,860180898  \n",
              "1096   7   1 NaN  0,860180898  \n",
              "1097   7   1 NaN  0,860180898  \n",
              "1098   7   2 NaN  0,791468434  \n",
              "\n",
              "[1099 rows x 63 columns]"
            ],
            "text/html": [
              "\n",
              "  <div id=\"df-8ab04a34-256c-46e2-8a50-898ddeeafa4d\" class=\"colab-df-container\">\n",
              "    <div>\n",
              "<style scoped>\n",
              "    .dataframe tbody tr th:only-of-type {\n",
              "        vertical-align: middle;\n",
              "    }\n",
              "\n",
              "    .dataframe tbody tr th {\n",
              "        vertical-align: top;\n",
              "    }\n",
              "\n",
              "    .dataframe thead th {\n",
              "        text-align: right;\n",
              "    }\n",
              "</style>\n",
              "<table border=\"1\" class=\"dataframe\">\n",
              "  <thead>\n",
              "    <tr style=\"text-align: right;\">\n",
              "      <th></th>\n",
              "      <th>IDTNS</th>\n",
              "      <th>TIPO</th>\n",
              "      <th>OPERADORA</th>\n",
              "      <th>ESTADO</th>\n",
              "      <th>DATA</th>\n",
              "      <th>ANO_BASE</th>\n",
              "      <th>Q1</th>\n",
              "      <th>Q2</th>\n",
              "      <th>Q2_1</th>\n",
              "      <th>Q2_2</th>\n",
              "      <th>...</th>\n",
              "      <th>G2_3</th>\n",
              "      <th>H0</th>\n",
              "      <th>COD_IBGE</th>\n",
              "      <th>H1</th>\n",
              "      <th>H2</th>\n",
              "      <th>H2a</th>\n",
              "      <th>H3</th>\n",
              "      <th>I1</th>\n",
              "      <th>I2</th>\n",
              "      <th>PESO</th>\n",
              "    </tr>\n",
              "  </thead>\n",
              "  <tbody>\n",
              "    <tr>\n",
              "      <th>0</th>\n",
              "      <td>61433</td>\n",
              "      <td>BANDA-LARGA</td>\n",
              "      <td>CLARO/NET</td>\n",
              "      <td>ES</td>\n",
              "      <td>16/jul/20</td>\n",
              "      <td>2020</td>\n",
              "      <td>1</td>\n",
              "      <td>NaN</td>\n",
              "      <td>2</td>\n",
              "      <td>2</td>\n",
              "      <td>...</td>\n",
              "      <td>2</td>\n",
              "      <td>VILA VELHA</td>\n",
              "      <td>3205200</td>\n",
              "      <td>99</td>\n",
              "      <td>999997</td>\n",
              "      <td>99</td>\n",
              "      <td>7</td>\n",
              "      <td>3</td>\n",
              "      <td>NaN</td>\n",
              "      <td>0,630163929</td>\n",
              "    </tr>\n",
              "    <tr>\n",
              "      <th>1</th>\n",
              "      <td>234054</td>\n",
              "      <td>BANDA-LARGA</td>\n",
              "      <td>CLARO/NET</td>\n",
              "      <td>SP</td>\n",
              "      <td>16/jul/20</td>\n",
              "      <td>2020</td>\n",
              "      <td>1</td>\n",
              "      <td>NaN</td>\n",
              "      <td>2</td>\n",
              "      <td>2</td>\n",
              "      <td>...</td>\n",
              "      <td>1</td>\n",
              "      <td>SÃO PAULO</td>\n",
              "      <td>3550308</td>\n",
              "      <td>2</td>\n",
              "      <td>3000</td>\n",
              "      <td>2</td>\n",
              "      <td>7</td>\n",
              "      <td>1</td>\n",
              "      <td>NaN</td>\n",
              "      <td>19,63292645</td>\n",
              "    </tr>\n",
              "    <tr>\n",
              "      <th>2</th>\n",
              "      <td>235004</td>\n",
              "      <td>BANDA-LARGA</td>\n",
              "      <td>CLARO/NET</td>\n",
              "      <td>SP</td>\n",
              "      <td>16/jul/20</td>\n",
              "      <td>2020</td>\n",
              "      <td>1</td>\n",
              "      <td>NaN</td>\n",
              "      <td>2</td>\n",
              "      <td>2</td>\n",
              "      <td>...</td>\n",
              "      <td>1</td>\n",
              "      <td>SÃO BERNARDO DO CAMPO</td>\n",
              "      <td>3548708</td>\n",
              "      <td>2</td>\n",
              "      <td>10000</td>\n",
              "      <td>4</td>\n",
              "      <td>7</td>\n",
              "      <td>1</td>\n",
              "      <td>NaN</td>\n",
              "      <td>19,63292645</td>\n",
              "    </tr>\n",
              "    <tr>\n",
              "      <th>3</th>\n",
              "      <td>429370</td>\n",
              "      <td>BANDA-LARGA</td>\n",
              "      <td>OI</td>\n",
              "      <td>DF</td>\n",
              "      <td>16/jul/20</td>\n",
              "      <td>2020</td>\n",
              "      <td>1</td>\n",
              "      <td>NaN</td>\n",
              "      <td>2</td>\n",
              "      <td>2</td>\n",
              "      <td>...</td>\n",
              "      <td>1</td>\n",
              "      <td>BRASÍLIA</td>\n",
              "      <td>5300108</td>\n",
              "      <td>1</td>\n",
              "      <td>1300</td>\n",
              "      <td>1</td>\n",
              "      <td>2</td>\n",
              "      <td>1</td>\n",
              "      <td>NaN</td>\n",
              "      <td>0,437668628</td>\n",
              "    </tr>\n",
              "    <tr>\n",
              "      <th>4</th>\n",
              "      <td>579712</td>\n",
              "      <td>BANDA-LARGA</td>\n",
              "      <td>OI</td>\n",
              "      <td>RN</td>\n",
              "      <td>16/jul/20</td>\n",
              "      <td>2020</td>\n",
              "      <td>1</td>\n",
              "      <td>NaN</td>\n",
              "      <td>2</td>\n",
              "      <td>2</td>\n",
              "      <td>...</td>\n",
              "      <td>1</td>\n",
              "      <td>NATAL</td>\n",
              "      <td>2408102</td>\n",
              "      <td>1</td>\n",
              "      <td>1040</td>\n",
              "      <td>1</td>\n",
              "      <td>2</td>\n",
              "      <td>3</td>\n",
              "      <td>NaN</td>\n",
              "      <td>0,093547923</td>\n",
              "    </tr>\n",
              "    <tr>\n",
              "      <th>...</th>\n",
              "      <td>...</td>\n",
              "      <td>...</td>\n",
              "      <td>...</td>\n",
              "      <td>...</td>\n",
              "      <td>...</td>\n",
              "      <td>...</td>\n",
              "      <td>...</td>\n",
              "      <td>...</td>\n",
              "      <td>...</td>\n",
              "      <td>...</td>\n",
              "      <td>...</td>\n",
              "      <td>...</td>\n",
              "      <td>...</td>\n",
              "      <td>...</td>\n",
              "      <td>...</td>\n",
              "      <td>...</td>\n",
              "      <td>...</td>\n",
              "      <td>...</td>\n",
              "      <td>...</td>\n",
              "      <td>...</td>\n",
              "      <td>...</td>\n",
              "    </tr>\n",
              "    <tr>\n",
              "      <th>1094</th>\n",
              "      <td>855226</td>\n",
              "      <td>BANDA-LARGA</td>\n",
              "      <td>VIVO</td>\n",
              "      <td>DF</td>\n",
              "      <td>06/ago/20</td>\n",
              "      <td>2020</td>\n",
              "      <td>1</td>\n",
              "      <td>NaN</td>\n",
              "      <td>2</td>\n",
              "      <td>2</td>\n",
              "      <td>...</td>\n",
              "      <td>1</td>\n",
              "      <td>BRASÍLIA</td>\n",
              "      <td>5300108</td>\n",
              "      <td>1</td>\n",
              "      <td>999997</td>\n",
              "      <td>99</td>\n",
              "      <td>7</td>\n",
              "      <td>1</td>\n",
              "      <td>NaN</td>\n",
              "      <td>0,860180898</td>\n",
              "    </tr>\n",
              "    <tr>\n",
              "      <th>1095</th>\n",
              "      <td>855472</td>\n",
              "      <td>BANDA-LARGA</td>\n",
              "      <td>VIVO</td>\n",
              "      <td>DF</td>\n",
              "      <td>06/ago/20</td>\n",
              "      <td>2020</td>\n",
              "      <td>1</td>\n",
              "      <td>NaN</td>\n",
              "      <td>2</td>\n",
              "      <td>2</td>\n",
              "      <td>...</td>\n",
              "      <td>1</td>\n",
              "      <td>BRASÍLIA</td>\n",
              "      <td>5300108</td>\n",
              "      <td>1</td>\n",
              "      <td>2000</td>\n",
              "      <td>1</td>\n",
              "      <td>4</td>\n",
              "      <td>1</td>\n",
              "      <td>NaN</td>\n",
              "      <td>0,860180898</td>\n",
              "    </tr>\n",
              "    <tr>\n",
              "      <th>1096</th>\n",
              "      <td>855509</td>\n",
              "      <td>BANDA-LARGA</td>\n",
              "      <td>VIVO</td>\n",
              "      <td>DF</td>\n",
              "      <td>06/ago/20</td>\n",
              "      <td>2020</td>\n",
              "      <td>1</td>\n",
              "      <td>NaN</td>\n",
              "      <td>2</td>\n",
              "      <td>2</td>\n",
              "      <td>...</td>\n",
              "      <td>1</td>\n",
              "      <td>BRASÍLIA</td>\n",
              "      <td>5300108</td>\n",
              "      <td>2</td>\n",
              "      <td>999999</td>\n",
              "      <td>99</td>\n",
              "      <td>7</td>\n",
              "      <td>1</td>\n",
              "      <td>NaN</td>\n",
              "      <td>0,860180898</td>\n",
              "    </tr>\n",
              "    <tr>\n",
              "      <th>1097</th>\n",
              "      <td>855666</td>\n",
              "      <td>BANDA-LARGA</td>\n",
              "      <td>VIVO</td>\n",
              "      <td>DF</td>\n",
              "      <td>06/ago/20</td>\n",
              "      <td>2020</td>\n",
              "      <td>1</td>\n",
              "      <td>NaN</td>\n",
              "      <td>2</td>\n",
              "      <td>2</td>\n",
              "      <td>...</td>\n",
              "      <td>1</td>\n",
              "      <td>BRASÍLIA</td>\n",
              "      <td>5300108</td>\n",
              "      <td>1</td>\n",
              "      <td>5000</td>\n",
              "      <td>3</td>\n",
              "      <td>7</td>\n",
              "      <td>1</td>\n",
              "      <td>NaN</td>\n",
              "      <td>0,860180898</td>\n",
              "    </tr>\n",
              "    <tr>\n",
              "      <th>1098</th>\n",
              "      <td>876249</td>\n",
              "      <td>BANDA-LARGA</td>\n",
              "      <td>VIVO</td>\n",
              "      <td>GO</td>\n",
              "      <td>06/ago/20</td>\n",
              "      <td>2020</td>\n",
              "      <td>1</td>\n",
              "      <td>NaN</td>\n",
              "      <td>2</td>\n",
              "      <td>2</td>\n",
              "      <td>...</td>\n",
              "      <td>1</td>\n",
              "      <td>LUZIÂNIA</td>\n",
              "      <td>5212501</td>\n",
              "      <td>3</td>\n",
              "      <td>3000</td>\n",
              "      <td>2</td>\n",
              "      <td>7</td>\n",
              "      <td>2</td>\n",
              "      <td>NaN</td>\n",
              "      <td>0,791468434</td>\n",
              "    </tr>\n",
              "  </tbody>\n",
              "</table>\n",
              "<p>1099 rows × 63 columns</p>\n",
              "</div>\n",
              "    <div class=\"colab-df-buttons\">\n",
              "\n",
              "  <div class=\"colab-df-container\">\n",
              "    <button class=\"colab-df-convert\" onclick=\"convertToInteractive('df-8ab04a34-256c-46e2-8a50-898ddeeafa4d')\"\n",
              "            title=\"Convert this dataframe to an interactive table.\"\n",
              "            style=\"display:none;\">\n",
              "\n",
              "  <svg xmlns=\"http://www.w3.org/2000/svg\" height=\"24px\" viewBox=\"0 -960 960 960\">\n",
              "    <path d=\"M120-120v-720h720v720H120Zm60-500h600v-160H180v160Zm220 220h160v-160H400v160Zm0 220h160v-160H400v160ZM180-400h160v-160H180v160Zm440 0h160v-160H620v160ZM180-180h160v-160H180v160Zm440 0h160v-160H620v160Z\"/>\n",
              "  </svg>\n",
              "    </button>\n",
              "\n",
              "  <style>\n",
              "    .colab-df-container {\n",
              "      display:flex;\n",
              "      gap: 12px;\n",
              "    }\n",
              "\n",
              "    .colab-df-convert {\n",
              "      background-color: #E8F0FE;\n",
              "      border: none;\n",
              "      border-radius: 50%;\n",
              "      cursor: pointer;\n",
              "      display: none;\n",
              "      fill: #1967D2;\n",
              "      height: 32px;\n",
              "      padding: 0 0 0 0;\n",
              "      width: 32px;\n",
              "    }\n",
              "\n",
              "    .colab-df-convert:hover {\n",
              "      background-color: #E2EBFA;\n",
              "      box-shadow: 0px 1px 2px rgba(60, 64, 67, 0.3), 0px 1px 3px 1px rgba(60, 64, 67, 0.15);\n",
              "      fill: #174EA6;\n",
              "    }\n",
              "\n",
              "    .colab-df-buttons div {\n",
              "      margin-bottom: 4px;\n",
              "    }\n",
              "\n",
              "    [theme=dark] .colab-df-convert {\n",
              "      background-color: #3B4455;\n",
              "      fill: #D2E3FC;\n",
              "    }\n",
              "\n",
              "    [theme=dark] .colab-df-convert:hover {\n",
              "      background-color: #434B5C;\n",
              "      box-shadow: 0px 1px 3px 1px rgba(0, 0, 0, 0.15);\n",
              "      filter: drop-shadow(0px 1px 2px rgba(0, 0, 0, 0.3));\n",
              "      fill: #FFFFFF;\n",
              "    }\n",
              "  </style>\n",
              "\n",
              "    <script>\n",
              "      const buttonEl =\n",
              "        document.querySelector('#df-8ab04a34-256c-46e2-8a50-898ddeeafa4d button.colab-df-convert');\n",
              "      buttonEl.style.display =\n",
              "        google.colab.kernel.accessAllowed ? 'block' : 'none';\n",
              "\n",
              "      async function convertToInteractive(key) {\n",
              "        const element = document.querySelector('#df-8ab04a34-256c-46e2-8a50-898ddeeafa4d');\n",
              "        const dataTable =\n",
              "          await google.colab.kernel.invokeFunction('convertToInteractive',\n",
              "                                                    [key], {});\n",
              "        if (!dataTable) return;\n",
              "\n",
              "        const docLinkHtml = 'Like what you see? Visit the ' +\n",
              "          '<a target=\"_blank\" href=https://colab.research.google.com/notebooks/data_table.ipynb>data table notebook</a>'\n",
              "          + ' to learn more about interactive tables.';\n",
              "        element.innerHTML = '';\n",
              "        dataTable['output_type'] = 'display_data';\n",
              "        await google.colab.output.renderOutput(dataTable, element);\n",
              "        const docLink = document.createElement('div');\n",
              "        docLink.innerHTML = docLinkHtml;\n",
              "        element.appendChild(docLink);\n",
              "      }\n",
              "    </script>\n",
              "  </div>\n",
              "\n",
              "\n",
              "<div id=\"df-e1c87416-d087-4f23-8de8-199e6e1c2681\">\n",
              "  <button class=\"colab-df-quickchart\" onclick=\"quickchart('df-e1c87416-d087-4f23-8de8-199e6e1c2681')\"\n",
              "            title=\"Suggest charts\"\n",
              "            style=\"display:none;\">\n",
              "\n",
              "<svg xmlns=\"http://www.w3.org/2000/svg\" height=\"24px\"viewBox=\"0 0 24 24\"\n",
              "     width=\"24px\">\n",
              "    <g>\n",
              "        <path d=\"M19 3H5c-1.1 0-2 .9-2 2v14c0 1.1.9 2 2 2h14c1.1 0 2-.9 2-2V5c0-1.1-.9-2-2-2zM9 17H7v-7h2v7zm4 0h-2V7h2v10zm4 0h-2v-4h2v4z\"/>\n",
              "    </g>\n",
              "</svg>\n",
              "  </button>\n",
              "\n",
              "<style>\n",
              "  .colab-df-quickchart {\n",
              "      --bg-color: #E8F0FE;\n",
              "      --fill-color: #1967D2;\n",
              "      --hover-bg-color: #E2EBFA;\n",
              "      --hover-fill-color: #174EA6;\n",
              "      --disabled-fill-color: #AAA;\n",
              "      --disabled-bg-color: #DDD;\n",
              "  }\n",
              "\n",
              "  [theme=dark] .colab-df-quickchart {\n",
              "      --bg-color: #3B4455;\n",
              "      --fill-color: #D2E3FC;\n",
              "      --hover-bg-color: #434B5C;\n",
              "      --hover-fill-color: #FFFFFF;\n",
              "      --disabled-bg-color: #3B4455;\n",
              "      --disabled-fill-color: #666;\n",
              "  }\n",
              "\n",
              "  .colab-df-quickchart {\n",
              "    background-color: var(--bg-color);\n",
              "    border: none;\n",
              "    border-radius: 50%;\n",
              "    cursor: pointer;\n",
              "    display: none;\n",
              "    fill: var(--fill-color);\n",
              "    height: 32px;\n",
              "    padding: 0;\n",
              "    width: 32px;\n",
              "  }\n",
              "\n",
              "  .colab-df-quickchart:hover {\n",
              "    background-color: var(--hover-bg-color);\n",
              "    box-shadow: 0 1px 2px rgba(60, 64, 67, 0.3), 0 1px 3px 1px rgba(60, 64, 67, 0.15);\n",
              "    fill: var(--button-hover-fill-color);\n",
              "  }\n",
              "\n",
              "  .colab-df-quickchart-complete:disabled,\n",
              "  .colab-df-quickchart-complete:disabled:hover {\n",
              "    background-color: var(--disabled-bg-color);\n",
              "    fill: var(--disabled-fill-color);\n",
              "    box-shadow: none;\n",
              "  }\n",
              "\n",
              "  .colab-df-spinner {\n",
              "    border: 2px solid var(--fill-color);\n",
              "    border-color: transparent;\n",
              "    border-bottom-color: var(--fill-color);\n",
              "    animation:\n",
              "      spin 1s steps(1) infinite;\n",
              "  }\n",
              "\n",
              "  @keyframes spin {\n",
              "    0% {\n",
              "      border-color: transparent;\n",
              "      border-bottom-color: var(--fill-color);\n",
              "      border-left-color: var(--fill-color);\n",
              "    }\n",
              "    20% {\n",
              "      border-color: transparent;\n",
              "      border-left-color: var(--fill-color);\n",
              "      border-top-color: var(--fill-color);\n",
              "    }\n",
              "    30% {\n",
              "      border-color: transparent;\n",
              "      border-left-color: var(--fill-color);\n",
              "      border-top-color: var(--fill-color);\n",
              "      border-right-color: var(--fill-color);\n",
              "    }\n",
              "    40% {\n",
              "      border-color: transparent;\n",
              "      border-right-color: var(--fill-color);\n",
              "      border-top-color: var(--fill-color);\n",
              "    }\n",
              "    60% {\n",
              "      border-color: transparent;\n",
              "      border-right-color: var(--fill-color);\n",
              "    }\n",
              "    80% {\n",
              "      border-color: transparent;\n",
              "      border-right-color: var(--fill-color);\n",
              "      border-bottom-color: var(--fill-color);\n",
              "    }\n",
              "    90% {\n",
              "      border-color: transparent;\n",
              "      border-bottom-color: var(--fill-color);\n",
              "    }\n",
              "  }\n",
              "</style>\n",
              "\n",
              "  <script>\n",
              "    async function quickchart(key) {\n",
              "      const quickchartButtonEl =\n",
              "        document.querySelector('#' + key + ' button');\n",
              "      quickchartButtonEl.disabled = true;  // To prevent multiple clicks.\n",
              "      quickchartButtonEl.classList.add('colab-df-spinner');\n",
              "      try {\n",
              "        const charts = await google.colab.kernel.invokeFunction(\n",
              "            'suggestCharts', [key], {});\n",
              "      } catch (error) {\n",
              "        console.error('Error during call to suggestCharts:', error);\n",
              "      }\n",
              "      quickchartButtonEl.classList.remove('colab-df-spinner');\n",
              "      quickchartButtonEl.classList.add('colab-df-quickchart-complete');\n",
              "    }\n",
              "    (() => {\n",
              "      let quickchartButtonEl =\n",
              "        document.querySelector('#df-e1c87416-d087-4f23-8de8-199e6e1c2681 button');\n",
              "      quickchartButtonEl.style.display =\n",
              "        google.colab.kernel.accessAllowed ? 'block' : 'none';\n",
              "    })();\n",
              "  </script>\n",
              "</div>\n",
              "\n",
              "  <div id=\"id_a0e597d3-7bad-4c15-9418-f30a97cd4d00\">\n",
              "    <style>\n",
              "      .colab-df-generate {\n",
              "        background-color: #E8F0FE;\n",
              "        border: none;\n",
              "        border-radius: 50%;\n",
              "        cursor: pointer;\n",
              "        display: none;\n",
              "        fill: #1967D2;\n",
              "        height: 32px;\n",
              "        padding: 0 0 0 0;\n",
              "        width: 32px;\n",
              "      }\n",
              "\n",
              "      .colab-df-generate:hover {\n",
              "        background-color: #E2EBFA;\n",
              "        box-shadow: 0px 1px 2px rgba(60, 64, 67, 0.3), 0px 1px 3px 1px rgba(60, 64, 67, 0.15);\n",
              "        fill: #174EA6;\n",
              "      }\n",
              "\n",
              "      [theme=dark] .colab-df-generate {\n",
              "        background-color: #3B4455;\n",
              "        fill: #D2E3FC;\n",
              "      }\n",
              "\n",
              "      [theme=dark] .colab-df-generate:hover {\n",
              "        background-color: #434B5C;\n",
              "        box-shadow: 0px 1px 3px 1px rgba(0, 0, 0, 0.15);\n",
              "        filter: drop-shadow(0px 1px 2px rgba(0, 0, 0, 0.3));\n",
              "        fill: #FFFFFF;\n",
              "      }\n",
              "    </style>\n",
              "    <button class=\"colab-df-generate\" onclick=\"generateWithVariable('df')\"\n",
              "            title=\"Generate code using this dataframe.\"\n",
              "            style=\"display:none;\">\n",
              "\n",
              "  <svg xmlns=\"http://www.w3.org/2000/svg\" height=\"24px\"viewBox=\"0 0 24 24\"\n",
              "       width=\"24px\">\n",
              "    <path d=\"M7,19H8.4L18.45,9,17,7.55,7,17.6ZM5,21V16.75L18.45,3.32a2,2,0,0,1,2.83,0l1.4,1.43a1.91,1.91,0,0,1,.58,1.4,1.91,1.91,0,0,1-.58,1.4L9.25,21ZM18.45,9,17,7.55Zm-12,3A5.31,5.31,0,0,0,4.9,8.1,5.31,5.31,0,0,0,1,6.5,5.31,5.31,0,0,0,4.9,4.9,5.31,5.31,0,0,0,6.5,1,5.31,5.31,0,0,0,8.1,4.9,5.31,5.31,0,0,0,12,6.5,5.46,5.46,0,0,0,6.5,12Z\"/>\n",
              "  </svg>\n",
              "    </button>\n",
              "    <script>\n",
              "      (() => {\n",
              "      const buttonEl =\n",
              "        document.querySelector('#id_a0e597d3-7bad-4c15-9418-f30a97cd4d00 button.colab-df-generate');\n",
              "      buttonEl.style.display =\n",
              "        google.colab.kernel.accessAllowed ? 'block' : 'none';\n",
              "\n",
              "      buttonEl.onclick = () => {\n",
              "        google.colab.notebook.generateWithVariable('df');\n",
              "      }\n",
              "      })();\n",
              "    </script>\n",
              "  </div>\n",
              "\n",
              "    </div>\n",
              "  </div>\n"
            ],
            "application/vnd.google.colaboratory.intrinsic+json": {
              "type": "dataframe",
              "variable_name": "df"
            }
          },
          "metadata": {},
          "execution_count": 3
        }
      ]
    },
    {
      "cell_type": "code",
      "source": [
        "df['Q2_1'].unique()"
      ],
      "metadata": {
        "colab": {
          "base_uri": "https://localhost:8080/"
        },
        "id": "lzZJWWNrcRq5",
        "outputId": "c5ac94d3-61cd-48f6-dda2-8499ced28071"
      },
      "execution_count": null,
      "outputs": [
        {
          "output_type": "execute_result",
          "data": {
            "text/plain": [
              "array([2])"
            ]
          },
          "metadata": {},
          "execution_count": 4
        }
      ]
    },
    {
      "cell_type": "code",
      "source": [
        "df['Q2_2'].unique()"
      ],
      "metadata": {
        "colab": {
          "base_uri": "https://localhost:8080/"
        },
        "id": "NJ4NxpCucTGH",
        "outputId": "a39bcd3a-a8b6-4b5e-def6-c81b99ca97a8"
      },
      "execution_count": null,
      "outputs": [
        {
          "output_type": "execute_result",
          "data": {
            "text/plain": [
              "array([2])"
            ]
          },
          "metadata": {},
          "execution_count": 5
        }
      ]
    },
    {
      "cell_type": "code",
      "source": [
        "df['A1_1'].unique()"
      ],
      "metadata": {
        "colab": {
          "base_uri": "https://localhost:8080/"
        },
        "id": "tWY5i2ZBg_A0",
        "outputId": "96381060-efb5-4979-c7f6-0a311cd29f3f"
      },
      "execution_count": null,
      "outputs": [
        {
          "output_type": "execute_result",
          "data": {
            "text/plain": [
              "array([nan,  1.])"
            ]
          },
          "metadata": {},
          "execution_count": 17
        }
      ]
    },
    {
      "cell_type": "code",
      "source": [
        "df['A1_1'].value_counts()"
      ],
      "metadata": {
        "colab": {
          "base_uri": "https://localhost:8080/"
        },
        "id": "fT2e0va4hXoH",
        "outputId": "f3d7f5ec-497e-4385-e4e2-3880a78b015a"
      },
      "execution_count": null,
      "outputs": [
        {
          "output_type": "execute_result",
          "data": {
            "text/plain": [
              "A1_1\n",
              "1.0    841\n",
              "Name: count, dtype: int64"
            ]
          },
          "metadata": {},
          "execution_count": 9
        }
      ]
    },
    {
      "cell_type": "code",
      "source": [
        "df['A1_2'].value_counts()"
      ],
      "metadata": {
        "colab": {
          "base_uri": "https://localhost:8080/"
        },
        "id": "Bs6R2V7VsTMY",
        "outputId": "17a59703-c94a-4dd4-844e-389706f6c744"
      },
      "execution_count": null,
      "outputs": [
        {
          "output_type": "execute_result",
          "data": {
            "text/plain": [
              "A1_2\n",
              "2.0    453\n",
              "Name: count, dtype: int64"
            ]
          },
          "metadata": {},
          "execution_count": 11
        }
      ]
    },
    {
      "cell_type": "code",
      "source": [
        "df['A1_3'].value_counts()"
      ],
      "metadata": {
        "colab": {
          "base_uri": "https://localhost:8080/"
        },
        "id": "UfxER_HpsaAY",
        "outputId": "129b7c98-05a4-4468-def7-922d21f9f053"
      },
      "execution_count": null,
      "outputs": [
        {
          "output_type": "execute_result",
          "data": {
            "text/plain": [
              "A1_3\n",
              "3.0    144\n",
              "Name: count, dtype: int64"
            ]
          },
          "metadata": {},
          "execution_count": 13
        }
      ]
    },
    {
      "cell_type": "code",
      "source": [
        "df['A1_4'].value_counts()"
      ],
      "metadata": {
        "colab": {
          "base_uri": "https://localhost:8080/"
        },
        "id": "4l8990aIsgNC",
        "outputId": "f7f01f6d-d691-490e-d57d-422e694a9390"
      },
      "execution_count": null,
      "outputs": [
        {
          "output_type": "execute_result",
          "data": {
            "text/plain": [
              "A1_4\n",
              "97.0    136\n",
              "Name: count, dtype: int64"
            ]
          },
          "metadata": {},
          "execution_count": 14
        }
      ]
    },
    {
      "cell_type": "code",
      "source": [
        "df['A2_1'].isnull().sum()"
      ],
      "metadata": {
        "colab": {
          "base_uri": "https://localhost:8080/"
        },
        "id": "zSolChvFtALq",
        "outputId": "14b4ff4d-20fb-49b5-be51-cd159faeace5"
      },
      "execution_count": null,
      "outputs": [
        {
          "output_type": "execute_result",
          "data": {
            "text/plain": [
              "258"
            ]
          },
          "metadata": {},
          "execution_count": 18
        }
      ]
    },
    {
      "cell_type": "code",
      "source": [
        "df['A2_2'].isnull().sum()"
      ],
      "metadata": {
        "colab": {
          "base_uri": "https://localhost:8080/"
        },
        "id": "REDZFO1vtB9u",
        "outputId": "62cfbe27-4f83-4641-a021-6112020a876e"
      },
      "execution_count": null,
      "outputs": [
        {
          "output_type": "execute_result",
          "data": {
            "text/plain": [
              "258"
            ]
          },
          "metadata": {},
          "execution_count": 19
        }
      ]
    },
    {
      "cell_type": "code",
      "source": [
        "df['A2_3'].isnull().sum()"
      ],
      "metadata": {
        "colab": {
          "base_uri": "https://localhost:8080/"
        },
        "id": "zdR1ZHBotC9J",
        "outputId": "b95a938f-7a41-4e05-f24b-e2cd7a4f5b83"
      },
      "execution_count": null,
      "outputs": [
        {
          "output_type": "execute_result",
          "data": {
            "text/plain": [
              "258"
            ]
          },
          "metadata": {},
          "execution_count": 20
        }
      ]
    },
    {
      "cell_type": "code",
      "source": [
        "df['A3'].isnull().sum()"
      ],
      "metadata": {
        "colab": {
          "base_uri": "https://localhost:8080/"
        },
        "id": "ROUq9YvKtD36",
        "outputId": "9be3333c-6488-4420-c8f0-5e0f6e81cfad"
      },
      "execution_count": null,
      "outputs": [
        {
          "output_type": "execute_result",
          "data": {
            "text/plain": [
              "258"
            ]
          },
          "metadata": {},
          "execution_count": 21
        }
      ]
    },
    {
      "cell_type": "code",
      "source": [
        "df['J1'].unique()"
      ],
      "metadata": {
        "colab": {
          "base_uri": "https://localhost:8080/"
        },
        "id": "6ugheuvMcTgX",
        "outputId": "e71cbb8e-5c16-4d95-c19e-6b171ca547a4"
      },
      "execution_count": null,
      "outputs": [
        {
          "output_type": "execute_result",
          "data": {
            "text/plain": [
              "array([ 6,  8,  0, 10,  5,  7,  2,  3,  9,  1,  4, 99])"
            ]
          },
          "metadata": {},
          "execution_count": 6
        }
      ]
    },
    {
      "cell_type": "code",
      "source": [
        "df['E2'].unique()"
      ],
      "metadata": {
        "colab": {
          "base_uri": "https://localhost:8080/"
        },
        "id": "kOopUJmjaJJ0",
        "outputId": "f1fcf311-7aa3-462b-e886-bed595390558"
      },
      "execution_count": null,
      "outputs": [
        {
          "output_type": "execute_result",
          "data": {
            "text/plain": [
              "array([nan,  0., 10.,  9.,  7.,  5.,  8.,  6.,  1.,  3., 99.,  4.,  2.])"
            ]
          },
          "metadata": {},
          "execution_count": 7
        }
      ]
    },
    {
      "cell_type": "code",
      "source": [
        "df['E2'].value_counts()"
      ],
      "metadata": {
        "colab": {
          "base_uri": "https://localhost:8080/"
        },
        "id": "o4EJaeP1bFMJ",
        "outputId": "a1e421f2-0d7b-440c-8e6d-4c5b47a68df8"
      },
      "execution_count": null,
      "outputs": [
        {
          "output_type": "execute_result",
          "data": {
            "text/plain": [
              "E2\n",
              "8.0     79\n",
              "0.0     73\n",
              "10.0    69\n",
              "5.0     64\n",
              "7.0     43\n",
              "9.0     32\n",
              "6.0     21\n",
              "3.0     19\n",
              "4.0     15\n",
              "2.0     11\n",
              "99.0     4\n",
              "1.0      3\n",
              "Name: count, dtype: int64"
            ]
          },
          "metadata": {},
          "execution_count": 47
        }
      ]
    },
    {
      "cell_type": "code",
      "source": [
        "df['E8'].value_counts()"
      ],
      "metadata": {
        "colab": {
          "base_uri": "https://localhost:8080/"
        },
        "id": "3b6deqVyaQwt",
        "outputId": "e176e327-b2c9-4445-bdb6-5a4b17338eab"
      },
      "execution_count": null,
      "outputs": [
        {
          "output_type": "execute_result",
          "data": {
            "text/plain": [
              "E8\n",
              "8.0     126\n",
              "7.0     114\n",
              "5.0      99\n",
              "0.0      80\n",
              "10.0     77\n",
              "9.0      59\n",
              "6.0      58\n",
              "3.0      39\n",
              "4.0      38\n",
              "2.0      33\n",
              "1.0      13\n",
              "Name: count, dtype: int64"
            ]
          },
          "metadata": {},
          "execution_count": 49
        }
      ]
    },
    {
      "cell_type": "code",
      "source": [
        "df['E8'].dropna()"
      ],
      "metadata": {
        "colab": {
          "base_uri": "https://localhost:8080/"
        },
        "id": "Qx2ZowRXciL_",
        "outputId": "889a9f54-ff3b-47a0-d64e-8b2356309bd9"
      },
      "execution_count": null,
      "outputs": [
        {
          "output_type": "execute_result",
          "data": {
            "text/plain": [
              "2        5.0\n",
              "3       10.0\n",
              "5        7.0\n",
              "6        5.0\n",
              "7        3.0\n",
              "        ... \n",
              "1092     5.0\n",
              "1094     5.0\n",
              "1095    10.0\n",
              "1097    10.0\n",
              "1098     0.0\n",
              "Name: E8, Length: 736, dtype: float64"
            ]
          },
          "metadata": {},
          "execution_count": 46
        }
      ]
    },
    {
      "cell_type": "code",
      "source": [
        "df['E8'].unique()"
      ],
      "metadata": {
        "colab": {
          "base_uri": "https://localhost:8080/"
        },
        "id": "GvQ2f1vKcogK",
        "outputId": "c79c72c3-3544-4851-9968-343c4f3ec3d3"
      },
      "execution_count": null,
      "outputs": [
        {
          "output_type": "execute_result",
          "data": {
            "text/plain": [
              "array([nan,  5., 10.,  7.,  3.,  0.,  9.,  8.,  2.,  6.,  4.,  1.])"
            ]
          },
          "metadata": {},
          "execution_count": 42
        }
      ]
    },
    {
      "cell_type": "code",
      "source": [
        "df['E1'].value_counts()"
      ],
      "metadata": {
        "colab": {
          "base_uri": "https://localhost:8080/"
        },
        "id": "nbaNWefZdPbW",
        "outputId": "0b116bec-1bd7-4861-bba1-95ba19e3c7f9"
      },
      "execution_count": null,
      "outputs": [
        {
          "output_type": "execute_result",
          "data": {
            "text/plain": [
              "E1\n",
              "2    666\n",
              "1    433\n",
              "Name: count, dtype: int64"
            ]
          },
          "metadata": {},
          "execution_count": 52
        }
      ]
    },
    {
      "cell_type": "code",
      "source": [
        "df['E3'].value_counts()"
      ],
      "metadata": {
        "colab": {
          "base_uri": "https://localhost:8080/"
        },
        "id": "savCWnKrdWVi",
        "outputId": "b3d55e51-4868-42e2-db63-70230decfe43"
      },
      "execution_count": null,
      "outputs": [
        {
          "output_type": "execute_result",
          "data": {
            "text/plain": [
              "E3\n",
              "2    716\n",
              "1    383\n",
              "Name: count, dtype: int64"
            ]
          },
          "metadata": {},
          "execution_count": 53
        }
      ]
    },
    {
      "cell_type": "code",
      "source": [
        "df['E5'].value_counts()"
      ],
      "metadata": {
        "colab": {
          "base_uri": "https://localhost:8080/"
        },
        "id": "42ObEw7tdXMZ",
        "outputId": "c4d68efd-c18c-44df-c8df-46eee16f9214"
      },
      "execution_count": null,
      "outputs": [
        {
          "output_type": "execute_result",
          "data": {
            "text/plain": [
              "E5\n",
              "2    835\n",
              "1    264\n",
              "Name: count, dtype: int64"
            ]
          },
          "metadata": {},
          "execution_count": 54
        }
      ]
    },
    {
      "cell_type": "code",
      "source": [
        "df['E7'].value_counts()"
      ],
      "metadata": {
        "colab": {
          "base_uri": "https://localhost:8080/"
        },
        "id": "xlTNI29OdZH2",
        "outputId": "e54fb8d4-f97c-4034-8479-ee0c2cff9704"
      },
      "execution_count": null,
      "outputs": [
        {
          "output_type": "execute_result",
          "data": {
            "text/plain": [
              "E7\n",
              "1    736\n",
              "2    363\n",
              "Name: count, dtype: int64"
            ]
          },
          "metadata": {},
          "execution_count": 55
        }
      ]
    },
    {
      "cell_type": "code",
      "source": [
        "df['E8'].value_counts()"
      ],
      "metadata": {
        "colab": {
          "base_uri": "https://localhost:8080/"
        },
        "id": "410Rscieddlt",
        "outputId": "78524fc1-767a-4a39-dacb-39a14928f906"
      },
      "execution_count": null,
      "outputs": [
        {
          "output_type": "execute_result",
          "data": {
            "text/plain": [
              "E8\n",
              "8.0     126\n",
              "7.0     114\n",
              "5.0      99\n",
              "0.0      80\n",
              "10.0     77\n",
              "9.0      59\n",
              "6.0      58\n",
              "3.0      39\n",
              "4.0      38\n",
              "2.0      33\n",
              "1.0      13\n",
              "Name: count, dtype: int64"
            ]
          },
          "metadata": {},
          "execution_count": 56
        }
      ]
    },
    {
      "cell_type": "code",
      "source": [
        "df['E8']"
      ],
      "metadata": {
        "colab": {
          "base_uri": "https://localhost:8080/"
        },
        "id": "azrpS5NOdfIp",
        "outputId": "7ee7eed4-3f4f-4feb-8232-acd70b31f04d"
      },
      "execution_count": null,
      "outputs": [
        {
          "output_type": "execute_result",
          "data": {
            "text/plain": [
              "0        NaN\n",
              "1        NaN\n",
              "2        5.0\n",
              "3       10.0\n",
              "4        NaN\n",
              "        ... \n",
              "1094     5.0\n",
              "1095    10.0\n",
              "1096     NaN\n",
              "1097    10.0\n",
              "1098     0.0\n",
              "Name: E8, Length: 1099, dtype: float64"
            ]
          },
          "metadata": {},
          "execution_count": 59
        }
      ]
    },
    {
      "cell_type": "code",
      "source": [
        "df['F1'].value_counts()"
      ],
      "metadata": {
        "colab": {
          "base_uri": "https://localhost:8080/"
        },
        "id": "D8EZrGPXfQpg",
        "outputId": "4380094a-c4e0-48b8-cb29-a58656c4d819"
      },
      "execution_count": null,
      "outputs": [
        {
          "output_type": "execute_result",
          "data": {
            "text/plain": [
              "F1\n",
              "2    950\n",
              "1    149\n",
              "Name: count, dtype: int64"
            ]
          },
          "metadata": {},
          "execution_count": 60
        }
      ]
    },
    {
      "cell_type": "code",
      "source": [
        "df['F3'].value_counts()"
      ],
      "metadata": {
        "colab": {
          "base_uri": "https://localhost:8080/"
        },
        "id": "LC6bQ5eUfWIs",
        "outputId": "4f105d55-f196-4364-e5ed-8c971934b252"
      },
      "execution_count": null,
      "outputs": [
        {
          "output_type": "execute_result",
          "data": {
            "text/plain": [
              "F3\n",
              "2    578\n",
              "1    521\n",
              "Name: count, dtype: int64"
            ]
          },
          "metadata": {},
          "execution_count": 61
        }
      ]
    },
    {
      "cell_type": "code",
      "source": [
        "df['F4_1']"
      ],
      "metadata": {
        "colab": {
          "base_uri": "https://localhost:8080/"
        },
        "id": "hs6hiVF7fgmU",
        "outputId": "6ccb611f-7f77-4049-cce9-b71f4bc67957"
      },
      "execution_count": null,
      "outputs": [
        {
          "output_type": "execute_result",
          "data": {
            "text/plain": [
              "0        NaN\n",
              "1        NaN\n",
              "2        7.0\n",
              "3        NaN\n",
              "4       10.0\n",
              "        ... \n",
              "1094    10.0\n",
              "1095    10.0\n",
              "1096     NaN\n",
              "1097     9.0\n",
              "1098     0.0\n",
              "Name: F4_1, Length: 1099, dtype: float64"
            ]
          },
          "metadata": {},
          "execution_count": 63
        }
      ]
    },
    {
      "cell_type": "code",
      "source": [
        "df['F4_2'].dropna()"
      ],
      "metadata": {
        "colab": {
          "base_uri": "https://localhost:8080/"
        },
        "id": "jU05dPqFgA7K",
        "outputId": "0c92472b-31bf-4a30-fea9-538a04732c18"
      },
      "execution_count": null,
      "outputs": [
        {
          "output_type": "execute_result",
          "data": {
            "text/plain": [
              "2        7.0\n",
              "4        7.0\n",
              "7        8.0\n",
              "8        6.0\n",
              "10      10.0\n",
              "        ... \n",
              "1092    10.0\n",
              "1094    10.0\n",
              "1095     7.0\n",
              "1097    10.0\n",
              "1098     0.0\n",
              "Name: F4_2, Length: 521, dtype: float64"
            ]
          },
          "metadata": {},
          "execution_count": 65
        }
      ]
    },
    {
      "cell_type": "code",
      "source": [
        "df['F4_3'].dropna()"
      ],
      "metadata": {
        "colab": {
          "base_uri": "https://localhost:8080/"
        },
        "id": "OvXIjIgvgE8E",
        "outputId": "0d8b70ca-e71a-4962-d943-5b5fb065331f"
      },
      "execution_count": null,
      "outputs": [
        {
          "output_type": "execute_result",
          "data": {
            "text/plain": [
              "2        9.0\n",
              "4       10.0\n",
              "7        3.0\n",
              "8        7.0\n",
              "10       5.0\n",
              "        ... \n",
              "1092    10.0\n",
              "1094    10.0\n",
              "1095    10.0\n",
              "1097     8.0\n",
              "1098     1.0\n",
              "Name: F4_3, Length: 521, dtype: float64"
            ]
          },
          "metadata": {},
          "execution_count": 68
        }
      ]
    },
    {
      "cell_type": "code",
      "source": [
        "df['G2_1'].value_counts()"
      ],
      "metadata": {
        "colab": {
          "base_uri": "https://localhost:8080/"
        },
        "id": "CVSSjUSwgmEW",
        "outputId": "c113bdd9-1f68-497c-be28-2ff381363b40"
      },
      "execution_count": null,
      "outputs": [
        {
          "output_type": "execute_result",
          "data": {
            "text/plain": [
              "G2_1\n",
              "2    775\n",
              "1    324\n",
              "Name: count, dtype: int64"
            ]
          },
          "metadata": {},
          "execution_count": 72
        }
      ]
    },
    {
      "cell_type": "code",
      "source": [
        "df['G2_2'].value_counts()"
      ],
      "metadata": {
        "colab": {
          "base_uri": "https://localhost:8080/"
        },
        "id": "0LnSplaKgtUp",
        "outputId": "49dea3cf-3e32-4e07-f7ba-58cc577da795"
      },
      "execution_count": null,
      "outputs": [
        {
          "output_type": "execute_result",
          "data": {
            "text/plain": [
              "G2_2\n",
              "2    731\n",
              "1    368\n",
              "Name: count, dtype: int64"
            ]
          },
          "metadata": {},
          "execution_count": 73
        }
      ]
    },
    {
      "cell_type": "code",
      "source": [
        "df['G2_3'].value_counts()"
      ],
      "metadata": {
        "colab": {
          "base_uri": "https://localhost:8080/"
        },
        "id": "ZOI3FYV0gtmq",
        "outputId": "1664eb59-32e0-4233-83a3-efd2ae20a604"
      },
      "execution_count": null,
      "outputs": [
        {
          "output_type": "execute_result",
          "data": {
            "text/plain": [
              "G2_3\n",
              "1    825\n",
              "2    274\n",
              "Name: count, dtype: int64"
            ]
          },
          "metadata": {},
          "execution_count": 74
        }
      ]
    },
    {
      "cell_type": "code",
      "source": [
        "df.columns"
      ],
      "metadata": {
        "colab": {
          "base_uri": "https://localhost:8080/"
        },
        "id": "8rcy6DV9kOM8",
        "outputId": "8a697807-45ee-43e0-b914-75811dd4dab0"
      },
      "execution_count": null,
      "outputs": [
        {
          "output_type": "execute_result",
          "data": {
            "text/plain": [
              "Index(['IDTNS', 'TIPO', 'OPERADORA', 'ESTADO', 'DATA', 'ANO_BASE', 'Q1', 'Q2',\n",
              "       'Q2_1', 'Q2_2', 'Q3', 'Q4', 'Q5', 'Q6', 'Q7', 'Q7a', 'Q8', 'J1', 'B1_1',\n",
              "       'B1_2', 'C1_1', 'C1_2', 'C1_3', 'D1_1', 'D1_2', 'A1_1', 'A1_2', 'A1_3',\n",
              "       'A1_4', 'A2_1', 'A2_2', 'A2_3', 'A3', 'A4', 'E1', 'E2', 'E3', 'E4',\n",
              "       'E5', 'E6', 'E7', 'E8', 'F1', 'F2_1', 'F2_2', 'F2_3', 'F3', 'F4_1',\n",
              "       'F4_2', 'F4_3', 'G1', 'G2_1', 'G2_2', 'G2_3', 'H0', 'COD_IBGE', 'H1',\n",
              "       'H2', 'H2a', 'H3', 'I1', 'I2', 'PESO'],\n",
              "      dtype='object')"
            ]
          },
          "metadata": {},
          "execution_count": 75
        }
      ]
    },
    {
      "cell_type": "code",
      "source": [
        "df['I1']"
      ],
      "metadata": {
        "colab": {
          "base_uri": "https://localhost:8080/"
        },
        "id": "6Ygv-JRDkQf6",
        "outputId": "0bed6131-c3a4-4853-8311-fa42fab49afe"
      },
      "execution_count": null,
      "outputs": [
        {
          "output_type": "execute_result",
          "data": {
            "text/plain": [
              "0       3\n",
              "1       1\n",
              "2       1\n",
              "3       1\n",
              "4       3\n",
              "       ..\n",
              "1094    1\n",
              "1095    1\n",
              "1096    1\n",
              "1097    1\n",
              "1098    2\n",
              "Name: I1, Length: 1099, dtype: int64"
            ]
          },
          "metadata": {},
          "execution_count": 76
        }
      ]
    },
    {
      "cell_type": "code",
      "source": [
        "df['H2'].unique()"
      ],
      "metadata": {
        "colab": {
          "base_uri": "https://localhost:8080/"
        },
        "id": "P8JKVweCuCDm",
        "outputId": "baf9f762-3b39-43fa-9f95-ad834f013624"
      },
      "execution_count": null,
      "outputs": [
        {
          "output_type": "execute_result",
          "data": {
            "text/plain": [
              "array([999997,   3000,  10000,   1300,   1040,   1045,  20000, 999998,\n",
              "         5000,   1200,   4600,   2000,   1100,  13000,   1600,   7000,\n",
              "         8000,   2600,   9000,   1500,   4000,   1800,  25000,   1900,\n",
              "       999999,  15000,   3500,   2200,   2500,   1400,   1000,   2900,\n",
              "         3800,   6000,   4100,   6500,   2100,  12000,   3200,   4500,\n",
              "        18000,   2070,    950,  30000,  11000,   4950,  23000,    900,\n",
              "        35000,    600,  17000,  19000,   2080,    700,   2300,   1042,\n",
              "         5500,  60000,   2400,  32000,   1700,  17889,   6600,   2800,\n",
              "         3300,   5200,  50000,  40000,   1056,  24000,    800,   5800,\n",
              "       100000,  14000,   1084,    300,    750,   8050,   7500,   4050,\n",
              "         8500,  45000,   2090])"
            ]
          },
          "metadata": {},
          "execution_count": 22
        }
      ]
    },
    {
      "cell_type": "code",
      "source": [
        "df['D1_1'].isnull().sum()"
      ],
      "metadata": {
        "colab": {
          "base_uri": "https://localhost:8080/"
        },
        "id": "Hks9BgMlwHfb",
        "outputId": "b9f706c3-2c00-459e-9a10-428a709e0a91"
      },
      "execution_count": null,
      "outputs": [
        {
          "output_type": "execute_result",
          "data": {
            "text/plain": [
              "0"
            ]
          },
          "metadata": {},
          "execution_count": 25
        }
      ]
    },
    {
      "cell_type": "code",
      "source": [
        "df['Q5'].value_counts()"
      ],
      "metadata": {
        "colab": {
          "base_uri": "https://localhost:8080/"
        },
        "id": "VdmHAZjiwyna",
        "outputId": "918a7fcb-e014-4d42-9ebc-cfd797189c77"
      },
      "execution_count": null,
      "outputs": [
        {
          "output_type": "execute_result",
          "data": {
            "text/plain": [
              "Q5\n",
              "1    871\n",
              "2    228\n",
              "Name: count, dtype: int64"
            ]
          },
          "metadata": {},
          "execution_count": 27
        }
      ]
    },
    {
      "cell_type": "code",
      "source": [
        "df['G2_1']"
      ],
      "metadata": {
        "colab": {
          "base_uri": "https://localhost:8080/"
        },
        "id": "z9I-jpW60RYj",
        "outputId": "6d483ad7-dced-4964-81dc-ffa1d18fe145"
      },
      "execution_count": null,
      "outputs": [
        {
          "output_type": "execute_result",
          "data": {
            "text/plain": [
              "0       2\n",
              "1       1\n",
              "2       1\n",
              "3       1\n",
              "4       2\n",
              "       ..\n",
              "1094    1\n",
              "1095    2\n",
              "1096    1\n",
              "1097    1\n",
              "1098    2\n",
              "Name: G2_1, Length: 1099, dtype: int64"
            ]
          },
          "metadata": {},
          "execution_count": 30
        }
      ]
    },
    {
      "cell_type": "code",
      "source": [
        "df['I1'].value_counts()"
      ],
      "metadata": {
        "colab": {
          "base_uri": "https://localhost:8080/"
        },
        "id": "wLmKTPGY1Pqd",
        "outputId": "c3751514-17b6-4510-ad79-59525a65adb9"
      },
      "execution_count": null,
      "outputs": [
        {
          "output_type": "execute_result",
          "data": {
            "text/plain": [
              "I1\n",
              "1    938\n",
              "3    149\n",
              "2     12\n",
              "Name: count, dtype: int64"
            ]
          },
          "metadata": {},
          "execution_count": 36
        }
      ]
    },
    {
      "cell_type": "code",
      "source": [
        "df['H3'].value_counts()"
      ],
      "metadata": {
        "colab": {
          "base_uri": "https://localhost:8080/"
        },
        "id": "xtuouPfv1X-v",
        "outputId": "b1e945a3-0fed-4101-a389-f7b046181cc0"
      },
      "execution_count": null,
      "outputs": [
        {
          "output_type": "execute_result",
          "data": {
            "text/plain": [
              "H3\n",
              "7     402\n",
              "5     332\n",
              "9     109\n",
              "6      99\n",
              "2      52\n",
              "3      41\n",
              "4      40\n",
              "99     11\n",
              "8      11\n",
              "1       2\n",
              "Name: count, dtype: int64"
            ]
          },
          "metadata": {},
          "execution_count": 37
        }
      ]
    },
    {
      "cell_type": "code",
      "source": [
        "df['H3'].describe()"
      ],
      "metadata": {
        "colab": {
          "base_uri": "https://localhost:8080/"
        },
        "id": "z0CbaNM02Q8j",
        "outputId": "155e2dba-36da-4e6e-e2eb-734f2d39c929"
      },
      "execution_count": null,
      "outputs": [
        {
          "output_type": "execute_result",
          "data": {
            "text/plain": [
              "count    1099.000000\n",
              "mean        6.929026\n",
              "std         9.416514\n",
              "min         1.000000\n",
              "25%         5.000000\n",
              "50%         6.000000\n",
              "75%         7.000000\n",
              "max        99.000000\n",
              "Name: H3, dtype: float64"
            ]
          },
          "metadata": {},
          "execution_count": 38
        }
      ]
    }
  ]
}